{
 "cells": [
  {
   "cell_type": "markdown",
   "id": "e65dbb27",
   "metadata": {},
   "source": [
    "Importing libraries and initializing"
   ]
  },
  {
   "cell_type": "code",
   "execution_count": 125,
   "id": "a9045172-0c90-45ea-bc5e-6d7f53854e83",
   "metadata": {},
   "outputs": [],
   "source": [
    "import pyspark"
   ]
  },
  {
   "cell_type": "code",
   "execution_count": 156,
   "id": "8fd0a568-5e8a-417b-a72a-06ae9ac1909e",
   "metadata": {},
   "outputs": [],
   "source": [
    "from pyspark.sql import SparkSession\n",
    "from pyspark.sql.functions import count, col, when, desc, asc, avg, round"
   ]
  },
  {
   "cell_type": "code",
   "execution_count": 127,
   "id": "53d00acb-dbd5-45ab-9feb-fbd74d58bf12",
   "metadata": {},
   "outputs": [],
   "source": [
    "spark = SparkSession.builder.appName(\"Disney Data Analysis\").getOrCreate()"
   ]
  },
  {
   "cell_type": "code",
   "execution_count": 128,
   "id": "5ffe5a3c",
   "metadata": {},
   "outputs": [],
   "source": [
    "df = spark.read.csv(\"disney_plus_shows.csv\", header = True, inferSchema = True)"
   ]
  },
  {
   "cell_type": "code",
   "execution_count": 129,
   "id": "281754d2-7fc2-4261-8c1c-17aa6af8e7cc",
   "metadata": {},
   "outputs": [
    {
     "name": "stdout",
     "output_type": "stream",
     "text": [
      "root\n",
      " |-- imdb_id: string (nullable = true)\n",
      " |-- title: string (nullable = true)\n",
      " |-- plot: string (nullable = true)\n",
      " |-- type: string (nullable = true)\n",
      " |-- rated: string (nullable = true)\n",
      " |-- year: string (nullable = true)\n",
      " |-- released_at: string (nullable = true)\n",
      " |-- added_at: string (nullable = true)\n",
      " |-- runtime: string (nullable = true)\n",
      " |-- genre: string (nullable = true)\n",
      " |-- director: string (nullable = true)\n",
      " |-- writer: string (nullable = true)\n",
      " |-- actors: string (nullable = true)\n",
      " |-- language: string (nullable = true)\n",
      " |-- country: string (nullable = true)\n",
      " |-- awards: string (nullable = true)\n",
      " |-- metascore: string (nullable = true)\n",
      " |-- imdb_rating: string (nullable = true)\n",
      " |-- imdb_votes: string (nullable = true)\n",
      "\n"
     ]
    }
   ],
   "source": [
    "df.printSchema()"
   ]
  },
  {
   "cell_type": "code",
   "execution_count": 130,
   "id": "46acef3a",
   "metadata": {},
   "outputs": [
    {
     "data": {
      "text/plain": [
       "['imdb_id',\n",
       " 'title',\n",
       " 'plot',\n",
       " 'type',\n",
       " 'rated',\n",
       " 'year',\n",
       " 'released_at',\n",
       " 'added_at',\n",
       " 'runtime',\n",
       " 'genre',\n",
       " 'director',\n",
       " 'writer',\n",
       " 'actors',\n",
       " 'language',\n",
       " 'country',\n",
       " 'awards',\n",
       " 'metascore',\n",
       " 'imdb_rating',\n",
       " 'imdb_votes']"
      ]
     },
     "execution_count": 130,
     "metadata": {},
     "output_type": "execute_result"
    }
   ],
   "source": [
    "df.columns"
   ]
  },
  {
   "cell_type": "code",
   "execution_count": 131,
   "id": "9454a7f1",
   "metadata": {},
   "outputs": [
    {
     "data": {
      "text/plain": [
       "19"
      ]
     },
     "execution_count": 131,
     "metadata": {},
     "output_type": "execute_result"
    }
   ],
   "source": [
    "len(df.columns)"
   ]
  },
  {
   "cell_type": "code",
   "execution_count": 132,
   "id": "b6043943",
   "metadata": {},
   "outputs": [
    {
     "data": {
      "text/plain": [
       "992"
      ]
     },
     "execution_count": 132,
     "metadata": {},
     "output_type": "execute_result"
    }
   ],
   "source": [
    "df.count()"
   ]
  },
  {
   "cell_type": "code",
   "execution_count": 133,
   "id": "8770cd1c",
   "metadata": {},
   "outputs": [
    {
     "name": "stdout",
     "output_type": "stream",
     "text": [
      "+-------+---------+---------------+--------------------+-----------------+--------------------+--------------------+------------------+------------------+------------------+--------------+--------+--------------------+--------------------+--------------------+--------------------+--------------------+--------------------+--------------------+--------------------+\n",
      "|summary|  imdb_id|          title|                plot|             type|               rated|                year|       released_at|          added_at|           runtime|         genre|director|              writer|              actors|            language|             country|              awards|           metascore|         imdb_rating|          imdb_votes|\n",
      "+-------+---------+---------------+--------------------+-----------------+--------------------+--------------------+------------------+------------------+------------------+--------------+--------+--------------------+--------------------+--------------------+--------------------+--------------------+--------------------+--------------------+--------------------+\n",
      "|  count|      894|            894|                 894|              894|                 894|                 894|               894|               992|               894|           894|     894|                 894|                 894|                 894|                 894|                 894|                 894|                 894|                 894|\n",
      "|   mean|     null|           null|                null|             null|                null|  1994.4413892908829|1994.5714285714287|           1985.25|            1983.8|        1998.0|    null|                null|                null|                null|                null|                null|   61.82462686567164|  7.2331346841477995|  320.27142857142854|\n",
      "| stddev|     null|           null|                null|             null|                null|   23.98889768163841|29.311888598089553|31.972644557496334|29.710267585466156|          null|    null|                null|                null|                null|                null|                null|  16.101126750379454|  6.0761829000272165|   293.7104517629393|\n",
      "|    min|tt0019422|'Twas the Night|\"\"\"Doc McStuffins...| Davy and Georgie| Mater attempts t...| King of all Drif...|        clash ...\"|       01 May 2007|               1 h|   09 Jul 2003|  21 min|\"A.A. Milne (book...| Adi Granov (base...|            Bob Roth| Bill Peet (addit...| Danny Bilson (sc...| Alan Young (stor...| Alan Dinehart (s...|  Fred Lucky (story)|\n",
      "|    max|tt9822474|       Zootopia|Zoologist Jack Ra...|           series|              series|              series|             movie|             movie|              TV-G|Short, Fantasy|Zhong Yu|Winston Hibler (s...|Émile Genest, Joh...|Vincent Price, Ba...|USA, UK, Australi...|Zendaya, Chanelle...|Won 1 Oscar. Anot...|                 USA|Won 2 Oscars. Ano...|\n",
      "+-------+---------+---------------+--------------------+-----------------+--------------------+--------------------+------------------+------------------+------------------+--------------+--------+--------------------+--------------------+--------------------+--------------------+--------------------+--------------------+--------------------+--------------------+\n",
      "\n"
     ]
    }
   ],
   "source": [
    "df.describe().show()"
   ]
  },
  {
   "cell_type": "code",
   "execution_count": 134,
   "id": "a3e21bbc",
   "metadata": {},
   "outputs": [
    {
     "name": "stdout",
     "output_type": "stream",
     "text": [
      "+---------------------------------------------+-------------------------------------------+------------------------------------------+------------------------------------------+-------------------------------------------+------------------------------------------+-------------------------------------------------+----------------------------------------------+---------------------------------------------+-------------------------------------------+----------------------------------------------+--------------------------------------------+--------------------------------------------+----------------------------------------------+---------------------------------------------+--------------------------------------------+-----------------------------------------------+-------------------------------------------------+------------------------------------------------+\n",
      "|count(CASE WHEN (imdb_id IS NULL) THEN 1 END)|count(CASE WHEN (title IS NULL) THEN 1 END)|count(CASE WHEN (plot IS NULL) THEN 1 END)|count(CASE WHEN (type IS NULL) THEN 1 END)|count(CASE WHEN (rated IS NULL) THEN 1 END)|count(CASE WHEN (year IS NULL) THEN 1 END)|count(CASE WHEN (released_at IS NULL) THEN 1 END)|count(CASE WHEN (added_at IS NULL) THEN 1 END)|count(CASE WHEN (runtime IS NULL) THEN 1 END)|count(CASE WHEN (genre IS NULL) THEN 1 END)|count(CASE WHEN (director IS NULL) THEN 1 END)|count(CASE WHEN (writer IS NULL) THEN 1 END)|count(CASE WHEN (actors IS NULL) THEN 1 END)|count(CASE WHEN (language IS NULL) THEN 1 END)|count(CASE WHEN (country IS NULL) THEN 1 END)|count(CASE WHEN (awards IS NULL) THEN 1 END)|count(CASE WHEN (metascore IS NULL) THEN 1 END)|count(CASE WHEN (imdb_rating IS NULL) THEN 1 END)|count(CASE WHEN (imdb_votes IS NULL) THEN 1 END)|\n",
      "+---------------------------------------------+-------------------------------------------+------------------------------------------+------------------------------------------+-------------------------------------------+------------------------------------------+-------------------------------------------------+----------------------------------------------+---------------------------------------------+-------------------------------------------+----------------------------------------------+--------------------------------------------+--------------------------------------------+----------------------------------------------+---------------------------------------------+--------------------------------------------+-----------------------------------------------+-------------------------------------------------+------------------------------------------------+\n",
      "|                                           98|                                         98|                                        98|                                        98|                                         98|                                        98|                                               98|                                             0|                                           98|                                         98|                                            98|                                          98|                                          98|                                            98|                                           98|                                          98|                                             98|                                               98|                                              98|\n",
      "+---------------------------------------------+-------------------------------------------+------------------------------------------+------------------------------------------+-------------------------------------------+------------------------------------------+-------------------------------------------------+----------------------------------------------+---------------------------------------------+-------------------------------------------+----------------------------------------------+--------------------------------------------+--------------------------------------------+----------------------------------------------+---------------------------------------------+--------------------------------------------+-----------------------------------------------+-------------------------------------------------+------------------------------------------------+\n",
      "\n"
     ]
    }
   ],
   "source": [
    "df.select([count(when(col(c).isNull(), 1)) for c in df.columns]).show()"
   ]
  },
  {
   "cell_type": "code",
   "execution_count": 135,
   "id": "6bdd6bde",
   "metadata": {},
   "outputs": [
    {
     "name": "stdout",
     "output_type": "stream",
     "text": [
      "+-----------+--------------------+-----+----------+\n",
      "|imdb_rating|               title|rated|imdb_votes|\n",
      "+-----------+--------------------+-----+----------+\n",
      "|        7.3|10 Things I Hate ...|PG-13|   283,945|\n",
      "|        6.2|101 Dalmatian Street|  N/A|       124|\n",
      "|        5.7|      101 Dalmatians|    G|    97,785|\n",
      "|        5.8|101 Dalmatians 2:...|    G|     7,434|\n",
      "|        4.9|      102 Dalmatians|    G|    33,444|\n",
      "|        6.3|12 Dates of Chris...|   PG|     4,933|\n",
      "|        7.2|20,000 Leagues Un...|    G|    27,761|\n",
      "|         77|        A Bug's Life|movie|       7.2|\n",
      "|        7.6|A Celebration of ...|  N/A|        35|\n",
      "|        6.8|       A Goofy Movie|    G|    43,655|\n",
      "+-----------+--------------------+-----+----------+\n",
      "only showing top 10 rows\n",
      "\n"
     ]
    }
   ],
   "source": [
    "df_select = df.select(col(\"imdb_rating\"), col(\"title\"), col(\"rated\"), col(\"imdb_votes\"))\n",
    "df_select.show(10)"
   ]
  },
  {
   "cell_type": "code",
   "execution_count": 136,
   "id": "f0bc6da8",
   "metadata": {},
   "outputs": [
    {
     "name": "stdout",
     "output_type": "stream",
     "text": [
      "+------------------------------------------+-----------+\n",
      "|title                                     |imdb_rating|\n",
      "+------------------------------------------+-----------+\n",
      "|10 Things I Hate About You                |7.3        |\n",
      "|101 Dalmatian Street                      |6.2        |\n",
      "|101 Dalmatians                            |5.7        |\n",
      "|101 Dalmatians 2: Patch's London Adventure|5.8        |\n",
      "|102 Dalmatians                            |4.9        |\n",
      "|12 Dates of Christmas                     |6.3        |\n",
      "|20,000 Leagues Under the Sea              |7.2        |\n",
      "|A Bug's Life                              |77         |\n",
      "|A Celebration of the Music from Coco      |7.6        |\n",
      "|A Goofy Movie                             |6.8        |\n",
      "+------------------------------------------+-----------+\n",
      "only showing top 10 rows\n",
      "\n"
     ]
    }
   ],
   "source": [
    "df.select(df[\"title\"], df[\"imdb_rating\"]).show(10, truncate = False)"
   ]
  },
  {
   "cell_type": "markdown",
   "id": "f7dbff95",
   "metadata": {},
   "source": [
    "Displaying first three columns"
   ]
  },
  {
   "cell_type": "code",
   "execution_count": 137,
   "id": "22b25142",
   "metadata": {},
   "outputs": [
    {
     "name": "stdout",
     "output_type": "stream",
     "text": [
      "+----------+--------------------+--------------------+\n",
      "|   imdb_id|               title|                plot|\n",
      "+----------+--------------------+--------------------+\n",
      "| tt0147800|10 Things I Hate ...|A pretty, popular...|\n",
      "| tt7019028|101 Dalmatian Street|This series follo...|\n",
      "| tt0115433|      101 Dalmatians|An evil high-fash...|\n",
      "| tt0324941|101 Dalmatians 2:...|Being one of 101 ...|\n",
      "| tt0211181|      102 Dalmatians|Cruella DeVil get...|\n",
      "| tt1846442|12 Dates of Chris...|A story that foll...|\n",
      "| tt0046672|20,000 Leagues Un...|A ship sent to in...|\n",
      "| tt0120623|        A Bug's Life|\"A misfit ant, lo...|\n",
      "|tt12076020|A Celebration of ...|                 N/A|\n",
      "| tt0113198|       A Goofy Movie|When Max makes a ...|\n",
      "+----------+--------------------+--------------------+\n",
      "only showing top 10 rows\n",
      "\n"
     ]
    }
   ],
   "source": [
    "df.select(df.columns[:3]).show(10)"
   ]
  },
  {
   "cell_type": "code",
   "execution_count": 138,
   "id": "355a1b4e",
   "metadata": {},
   "outputs": [
    {
     "name": "stdout",
     "output_type": "stream",
     "text": [
      "+-----------+--------------------+-----+----------+\n",
      "|imdb_rating|               title|rated|imdb_votes|\n",
      "+-----------+--------------------+-----+----------+\n",
      "|        9.7|               Bluey| TV-Y|       949|\n",
      "|        9.1|The Imagineering ...|  N/A|     1,194|\n",
      "+-----------+--------------------+-----+----------+\n",
      "\n"
     ]
    }
   ],
   "source": [
    "df_select.filter(col(\"imdb_rating\") == 9).show(10)"
   ]
  },
  {
   "cell_type": "code",
   "execution_count": 139,
   "id": "06bf7444",
   "metadata": {},
   "outputs": [
    {
     "name": "stdout",
     "output_type": "stream",
     "text": [
      "+-----------+--------------------+-----+----------+\n",
      "|imdb_rating|               title|rated|imdb_votes|\n",
      "+-----------+--------------------+-----+----------+\n",
      "|        8.0|             Aladdin|    G|   356,283|\n",
      "|        8.0|Beauty and the Beast|    G|   404,632|\n",
      "|        8.3|    Before the Flood|   PG|    25,171|\n",
      "|        8.1|     Boy Meets World| TV-G|    37,279|\n",
      "|        8.3|         Brain Games| TV-G|     2,812|\n",
      "|        8.4|                Coco|   PG|   333,411|\n",
      "|        8.1|         Day & Night|    G|    16,108|\n",
      "|        8.9|       Gravity Falls|TV-Y7|    63,771|\n",
      "|        8.2|Phineas and Ferb:...| TV-G|       492|\n",
      "|        8.0|Star vs. the Forc...|TV-Y7|     9,623|\n",
      "+-----------+--------------------+-----+----------+\n",
      "only showing top 10 rows\n",
      "\n"
     ]
    }
   ],
   "source": [
    "df_select.filter(\"imdb_rating == 8\").show(10)"
   ]
  },
  {
   "cell_type": "code",
   "execution_count": 140,
   "id": "b3480e56",
   "metadata": {},
   "outputs": [
    {
     "name": "stdout",
     "output_type": "stream",
     "text": [
      "+-----------+--------------------+-----+----------+\n",
      "|imdb_rating|               title|rated|imdb_votes|\n",
      "+-----------+--------------------+-----+----------+\n",
      "|        8.0|             Aladdin|    G|   356,283|\n",
      "|        8.0|Beauty and the Beast|    G|   404,632|\n",
      "|        8.3|    Before the Flood|   PG|    25,171|\n",
      "|        9.7|               Bluey| TV-Y|       949|\n",
      "|        8.1|     Boy Meets World| TV-G|    37,279|\n",
      "|        8.3|         Brain Games| TV-G|     2,812|\n",
      "|        8.4|                Coco|   PG|   333,411|\n",
      "|        8.1|         Day & Night|    G|    16,108|\n",
      "|        8.9|       Gravity Falls|TV-Y7|    63,771|\n",
      "|        8.2|Phineas and Ferb:...| TV-G|       492|\n",
      "+-----------+--------------------+-----+----------+\n",
      "only showing top 10 rows\n",
      "\n"
     ]
    }
   ],
   "source": [
    "df_select.filter(col(\"imdb_rating\").cast(\"int\").isin([8, 9])).show(10)"
   ]
  },
  {
   "cell_type": "code",
   "execution_count": 141,
   "id": "9f7cca5f",
   "metadata": {},
   "outputs": [
    {
     "name": "stdout",
     "output_type": "stream",
     "text": [
      "+-----------+--------------------+-----+----------+\n",
      "|imdb_rating|               title|rated|imdb_votes|\n",
      "+-----------+--------------------+-----+----------+\n",
      "|        8.0|             Aladdin|    G|   356,283|\n",
      "|        8.0|Beauty and the Beast|    G|   404,632|\n",
      "|        8.0|Star vs. the Forc...|TV-Y7|     9,623|\n",
      "|        8.0|Dog Whisperer wit...| TV-G|     2,539|\n",
      "|        8.0|       For the Birds|    G|    28,126|\n",
      "|        8.0|             Kitbull|   PG|     3,834|\n",
      "|        8.0|             La Luna|    G|    12,217|\n",
      "|        8.0|     Life Below Zero|TV-PG|     1,429|\n",
      "|        8.0|Guardians of the ...|PG-13| 1,007,917|\n",
      "|        8.0|        The Avengers|PG-13| 1,225,316|\n",
      "+-----------+--------------------+-----+----------+\n",
      "only showing top 10 rows\n",
      "\n"
     ]
    }
   ],
   "source": [
    "df_select.filter(col(\"imdb_rating\").cast(\"float\").isin([8, 9])).show(10)"
   ]
  },
  {
   "cell_type": "code",
   "execution_count": 142,
   "id": "bac5cc88",
   "metadata": {},
   "outputs": [
    {
     "name": "stdout",
     "output_type": "stream",
     "text": [
      "+-----------+--------------------+-----+----------+\n",
      "|imdb_rating|               title|rated|imdb_votes|\n",
      "+-----------+--------------------+-----+----------+\n",
      "|        8.0|             Aladdin|    G|   356,283|\n",
      "|        8.0|Beauty and the Beast|    G|   404,632|\n",
      "|        8.0|Star vs. the Forc...|TV-Y7|     9,623|\n",
      "|        8.0|Dog Whisperer wit...| TV-G|     2,539|\n",
      "|        8.0|       For the Birds|    G|    28,126|\n",
      "|        8.0|             Kitbull|   PG|     3,834|\n",
      "|        8.0|             La Luna|    G|    12,217|\n",
      "|        8.0|     Life Below Zero|TV-PG|     1,429|\n",
      "|        8.0|Guardians of the ...|PG-13| 1,007,917|\n",
      "|        8.0|        The Avengers|PG-13| 1,225,316|\n",
      "+-----------+--------------------+-----+----------+\n",
      "only showing top 10 rows\n",
      "\n"
     ]
    }
   ],
   "source": [
    "df_select.filter(col(\"imdb_rating\").isin([8.0, 9.0])).show(10)"
   ]
  },
  {
   "cell_type": "markdown",
   "id": "119b049a",
   "metadata": {},
   "source": [
    "Displaying top 10 highest-rated Disney movies based on average ratings"
   ]
  },
  {
   "cell_type": "code",
   "execution_count": 143,
   "id": "b0aa731f",
   "metadata": {},
   "outputs": [
    {
     "name": "stdout",
     "output_type": "stream",
     "text": [
      "+-------------------------------------+--------------+\n",
      "|title                                |avg_imdb_votes|\n",
      "+-------------------------------------+--------------+\n",
      "|Mr. Boogedy                          |1173.0        |\n",
      "|The Incredible Dr. Pol               |999.0         |\n",
      "|Elena of Avalor                      |998.0         |\n",
      "|Boat Builders                        |993.0         |\n",
      "|Elmer Elephant                       |991.0         |\n",
      "|Lamp Life                            |980.0         |\n",
      "|Roving Mars                          |968.0         |\n",
      "|Bluey                                |949.0         |\n",
      "|Spider-Man                           |943.0         |\n",
      "|Marvel Studios: Assembling a Universe|936.0         |\n",
      "+-------------------------------------+--------------+\n",
      "\n"
     ]
    }
   ],
   "source": [
    "avg_rating = df.groupBy(col(\"title\")).agg({\"imdb_votes\" : \"avg\"}).withColumnRenamed(\"avg(imdb_votes)\", \"avg_imdb_votes\")\n",
    "avg_rating.orderBy(desc(\"avg_imdb_votes\")).limit(10).show(truncate = False)"
   ]
  },
  {
   "cell_type": "markdown",
   "id": "52cc7e7c",
   "metadata": {},
   "source": [
    "Movie with the highest average rating"
   ]
  },
  {
   "cell_type": "code",
   "execution_count": 144,
   "id": "9e27304d",
   "metadata": {},
   "outputs": [
    {
     "name": "stdout",
     "output_type": "stream",
     "text": [
      "+-----------+\n",
      "|      title|\n",
      "+-----------+\n",
      "|Mr. Boogedy|\n",
      "+-----------+\n",
      "\n"
     ]
    }
   ],
   "source": [
    "avg_rating.select(\"title\").orderBy(desc(\"avg_imdb_votes\")).limit(1).show()"
   ]
  },
  {
   "cell_type": "markdown",
   "id": "9eabba56",
   "metadata": {},
   "source": [
    "Displaying top 10 lowest-rated Disney movies based on average ratings (excluding nulls)"
   ]
  },
  {
   "cell_type": "code",
   "execution_count": 157,
   "id": "62ce8a57",
   "metadata": {},
   "outputs": [
    {
     "name": "stdout",
     "output_type": "stream",
     "text": [
      "+-----------------------------------------+--------------+\n",
      "|title                                    |avg_imdb_votes|\n",
      "+-----------------------------------------+--------------+\n",
      "|Jonas Brothers: The 3D Concert Experience|1.5           |\n",
      "|Out There with Jack Randall              |5.0           |\n",
      "|Insider                                  |5.0           |\n",
      "|The Sandlot: Heading Home                |5.0           |\n",
      "|Rocky Mountain Animal Rescue             |5.0           |\n",
      "|Camp Rock 2: The Final Jam               |5.2           |\n",
      "|Secrets of the King Cobra                |6.0           |\n",
      "|Muppet Moments                           |6.0           |\n",
      "|Penguins: Life on the Edge               |6.0           |\n",
      "|The Suite Life on Deck                   |6.3           |\n",
      "+-----------------------------------------+--------------+\n",
      "\n"
     ]
    }
   ],
   "source": [
    "avg_rating.dropna().orderBy(asc(\"avg_imdb_votes\")).limit(10).show(truncate = False)"
   ]
  },
  {
   "cell_type": "markdown",
   "id": "dab5df2e",
   "metadata": {},
   "source": [
    "Movie with the lowest average rating"
   ]
  },
  {
   "cell_type": "code",
   "execution_count": 146,
   "id": "bce74f59",
   "metadata": {},
   "outputs": [
    {
     "name": "stdout",
     "output_type": "stream",
     "text": [
      "+-----------------------------------------+\n",
      "|title                                    |\n",
      "+-----------------------------------------+\n",
      "|Jonas Brothers: The 3D Concert Experience|\n",
      "+-----------------------------------------+\n",
      "\n"
     ]
    }
   ],
   "source": [
    "avg_rating.dropna().select(\"title\").orderBy(asc(\"avg_imdb_votes\")).limit(1).show(truncate = False)"
   ]
  },
  {
   "cell_type": "markdown",
   "id": "11eb8924",
   "metadata": {},
   "source": [
    "Calculating average ratings of Disney movies by genre"
   ]
  },
  {
   "cell_type": "code",
   "execution_count": 158,
   "id": "a7204f90",
   "metadata": {},
   "outputs": [
    {
     "name": "stdout",
     "output_type": "stream",
     "text": [
      "+--------------------+---------------+\n",
      "|               genre|avg_imdb_rating|\n",
      "+--------------------+---------------+\n",
      "|Animation, Advent...|            6.5|\n",
      "|Animation, Comedy...|            6.7|\n",
      "|Adventure, Biogra...|            8.1|\n",
      "|             100 min|           84.0|\n",
      "|Adventure, Comedy...|            4.7|\n",
      "|Family, Romance, ...|            5.4|\n",
      "|Animation, Action...|            6.4|\n",
      "|Animation, Advent...|            6.1|\n",
      "|Action, Adventure...|            7.0|\n",
      "|Animation, Comedy...|            6.5|\n",
      "|Documentary, Hist...|            7.6|\n",
      "|Adventure, Family...|            8.5|\n",
      "|Documentary, Biog...|            7.9|\n",
      "|Documentary, Adve...|            4.7|\n",
      "|  Documentary, Music|            2.3|\n",
      "|Animation, Advent...|            8.4|\n",
      "|Family, Comedy, A...|            7.3|\n",
      "|Adventure, Comedy...|            5.3|\n",
      "|Adventure, Family...|            5.9|\n",
      "|Animation, Short,...|            7.6|\n",
      "+--------------------+---------------+\n",
      "only showing top 20 rows\n",
      "\n"
     ]
    }
   ],
   "source": [
    "genre = df.select(col(\"imdb_rating\"), col(\"title\"), col(\"rated\"), col(\"imdb_votes\"), col(\"genre\"))\n",
    "genre_avg = genre.groupBy(\"genre\").agg(round(avg(\"imdb_rating\"), 1)).withColumnRenamed(\"round(avg(imdb_rating), 1)\", \"avg_imdb_rating\")\n",
    "genre_avg.dropna().show()"
   ]
  },
  {
   "cell_type": "markdown",
   "id": "350e615f",
   "metadata": {},
   "source": [
    "Searching story plots which include ghost keyword"
   ]
  },
  {
   "cell_type": "code",
   "execution_count": 159,
   "id": "2b3c45a4",
   "metadata": {},
   "outputs": [
    {
     "name": "stdout",
     "output_type": "stream",
     "text": [
      "+---------+---------------+----------------------------------------------------------------------------------------------------------------------------------------------------------------+\n",
      "|imdb_id  |title          |plot                                                                                                                                                            |\n",
      "+---------+---------------+----------------------------------------------------------------------------------------------------------------------------------------------------------------+\n",
      "|tt0029161|Lonesome Ghosts|Four bored ghosts in a haunted house who've scared everyone away call up Ghost Hunters Mickey, Donald, and Goofy in hopes to have a little fun scaring them off.|\n",
      "+---------+---------------+----------------------------------------------------------------------------------------------------------------------------------------------------------------+\n",
      "\n"
     ]
    }
   ],
   "source": [
    "df.select(df.columns[:3]).filter(col(\"plot\").like(\"%ghost%\")).show(10, truncate = False)"
   ]
  },
  {
   "cell_type": "markdown",
   "id": "2a520fbd",
   "metadata": {},
   "source": [
    "Count of plots which have evil keyword"
   ]
  },
  {
   "cell_type": "code",
   "execution_count": 160,
   "id": "db49cf12",
   "metadata": {},
   "outputs": [
    {
     "data": {
      "text/plain": [
       "25"
      ]
     },
     "execution_count": 160,
     "metadata": {},
     "output_type": "execute_result"
    }
   ],
   "source": [
    "evil_plot = df.filter(col(\"plot\").like(\"%evil%\"))\n",
    "evil_plot.count()"
   ]
  },
  {
   "cell_type": "markdown",
   "id": "1bd46366",
   "metadata": {},
   "source": [
    "Filtering by type"
   ]
  },
  {
   "cell_type": "code",
   "execution_count": 161,
   "id": "2a9106d6",
   "metadata": {},
   "outputs": [
    {
     "name": "stdout",
     "output_type": "stream",
     "text": [
      "+-----------------------------------------------------------------------------------------------------------+-----+\n",
      "|type                                                                                                       |count|\n",
      "+-----------------------------------------------------------------------------------------------------------+-----+\n",
      "|\"\" a rubber-like super-bouncy substance.\"                                                                  |1    |\n",
      "| resident DJ for \"\"The Ellen Show\"\" ...\"                                                                   |1    |\n",
      "|null                                                                                                       |98   |\n",
      "| Davy and Georgie                                                                                          |1    |\n",
      "| an invisible creature befriends a 12 year old boy. Of course                                              |1    |\n",
      "| as well as documentary footage on the lives of the three brothers.\"                                       |1    |\n",
      "| Queen Aggravain has ruled that none may marry until her son                                               |1    |\n",
      "|\"\" James Cameron reopens the file on the disaster.\"                                                        |1    |\n",
      "|episode                                                                                                    |22   |\n",
      "| recruits a group of bugs that turn out to be an inept circus troupe.\"                                     |1    |\n",
      "| Donald isn't having a lot of fun or success with his game.\"                                               |1    |\n",
      "| creating an atmosphere of competition or feud.\"                                                           |1    |\n",
      "|movie                                                                                                      |657  |\n",
      "|series                                                                                                     |188  |\n",
      "| Donald decides ...\"                                                                                       |1    |\n",
      "|\"\" this animated adventure/comedy series unfolds as Rapunzel acquaints herself with her parents            |1    |\n",
      "| Jordy                                                                                                     |1    |\n",
      "| but the son of an old rival threatens to make the latter \"\"real\"\" and the real world a place of monsters.\"|1    |\n",
      "| of course                                                                                                 |1    |\n",
      "| a road trip alongside old and new friends reveals how big the world can be for a toy.\"                    |1    |\n",
      "+-----------------------------------------------------------------------------------------------------------+-----+\n",
      "only showing top 20 rows\n",
      "\n"
     ]
    }
   ],
   "source": [
    "df.groupBy(\"type\").count().show(truncate = False)"
   ]
  },
  {
   "cell_type": "markdown",
   "id": "b0c3c809",
   "metadata": {},
   "source": [
    "Calculating the average IMDb rating for each director and sorting in ascending order"
   ]
  },
  {
   "cell_type": "code",
   "execution_count": 151,
   "id": "1771720f",
   "metadata": {},
   "outputs": [
    {
     "name": "stdout",
     "output_type": "stream",
     "text": [
      "+-------------------------------------------------------------+---------------+\n",
      "|director                                                     |avg_imdb_rating|\n",
      "+-------------------------------------------------------------+---------------+\n",
      "|Aaron Blaise, Robert Walker                                  |6.8            |\n",
      "|Adam Shankman                                                |6.0            |\n",
      "|Alan Barillaro                                               |8.4            |\n",
      "|Alan Shapiro                                                 |6.5            |\n",
      "|Alan Taylor                                                  |6.9            |\n",
      "|Alastair Fothergill, Jeff Wilson                             |6.8            |\n",
      "|Alastair Fothergill, Keith Scholey, Adam Chapman(co-director)|7.4            |\n",
      "|Alastair Fothergill, Mark Linfield                           |7.2            |\n",
      "|Alex Zamm                                                    |3.4            |\n",
      "|Alfred Gimeno                                                |4.6            |\n",
      "|Alfred Gimeno, Eric Radomski                                 |5.1            |\n",
      "|Allison Liddi-Brown                                          |5.6            |\n",
      "|Andrew Adamson                                               |6.7            |\n",
      "|Andrew Davis                                                 |7.0            |\n",
      "|Andrew Knight                                                |6.1            |\n",
      "|Andrew Stanton                                               |7.5            |\n",
      "|Andrew Stanton, Angus MacLane(co-director)                   |7.3            |\n",
      "|Andrew Stanton, Lee Unkrich(co-director)                     |8.1            |\n",
      "|Andy Byatt, Alastair Fothergill                              |7.4            |\n",
      "|Andy Fickman                                                 |6.1            |\n",
      "+-------------------------------------------------------------+---------------+\n",
      "only showing top 20 rows\n",
      "\n"
     ]
    }
   ],
   "source": [
    "avg_rating_runtime = df.groupBy(\"director\").agg(round(avg(\"imdb_rating\"), 1).alias(\"avg_imdb_rating\"))\\\n",
    "                     .orderBy(asc(\"director\"))\n",
    "avg_rating_runtime.dropna().show(truncate = False)  "
   ]
  },
  {
   "cell_type": "code",
   "execution_count": 162,
   "id": "7a53a2cd",
   "metadata": {},
   "outputs": [
    {
     "name": "stdout",
     "output_type": "stream",
     "text": [
      "+----+------------+\n",
      "|year|No of Movies|\n",
      "+----+------------+\n",
      "|2020|          12|\n",
      "|2019|          28|\n",
      "|2018|          18|\n",
      "|2017|          21|\n",
      "|2016|          18|\n",
      "|2015|          12|\n",
      "|2014|          16|\n",
      "|2013|          10|\n",
      "|2012|          16|\n",
      "|2011|          22|\n",
      "|2010|          14|\n",
      "|2009|          18|\n",
      "|2008|          18|\n",
      "|2007|          14|\n",
      "|2006|          20|\n",
      "|2005|          21|\n",
      "|2004|          22|\n",
      "|2003|          26|\n",
      "|2002|          22|\n",
      "|2001|          15|\n",
      "+----+------------+\n",
      "only showing top 20 rows\n",
      "\n"
     ]
    }
   ],
   "source": [
    "mv_released_each_yr = df.filter(col(\"type\") == \"movie\")\\\n",
    "                      .groupBy(\"year\")\\\n",
    "                      .agg(count(\"imdb_id\").alias(\"No of Movies\"))\\\n",
    "                      .orderBy(desc(\"year\"))\n",
    "mv_released_each_yr.show()"
   ]
  },
  {
   "cell_type": "markdown",
   "id": "fa9b1635",
   "metadata": {},
   "source": [
    "Identifying the top 3 directors based on IMDb votes for their movies"
   ]
  },
  {
   "cell_type": "code",
   "execution_count": 163,
   "id": "9118f0fb",
   "metadata": {},
   "outputs": [
    {
     "name": "stdout",
     "output_type": "stream",
     "text": [
      "+----------+----------------+-----+--------------+\n",
      "|imdb_votes|director        |type |title         |\n",
      "+----------+----------------+-----+--------------+\n",
      "|993       |Ben Sharpsteen  |movie|Boat Builders |\n",
      "|991       |Wilfred Jackson |movie|Elmer Elephant|\n",
      "|980       |Valerie LaPointe|movie|Lamp Life     |\n",
      "+----------+----------------+-----+--------------+\n",
      "\n"
     ]
    }
   ],
   "source": [
    "changed_datatype = df.select(col(\"imdb_votes\").cast(\"int\"), col(\"director\"), col(\"type\"), col(\"title\"))\n",
    "top_three_directors = changed_datatype.filter(col(\"type\") == \"movie\")\\\n",
    "                     .orderBy(desc(\"imdb_votes\")).limit(3)\n",
    "top_three_directors.show(truncate = False)"
   ]
  },
  {
   "cell_type": "markdown",
   "id": "3843f417",
   "metadata": {},
   "source": [
    "Identifying average rating for movies that won awards and the ones that didn't"
   ]
  },
  {
   "cell_type": "code",
   "execution_count": 164,
   "id": "d890c3f4",
   "metadata": {},
   "outputs": [
    {
     "name": "stdout",
     "output_type": "stream",
     "text": [
      "+-------------------+---------+\n",
      "|Average IMDB Rating|Award Won|\n",
      "+-------------------+---------+\n",
      "|                7.6|        ✅|\n",
      "|                6.7|        ❌|\n",
      "+-------------------+---------+\n",
      "\n"
     ]
    }
   ],
   "source": [
    "movies_with_awards = df.withColumn(\"won_award\", when(col(\"awards\") == \"N/A\", \"❌\").otherwise(\"✅\"))\n",
    "avg_rating_by_awards = movies_with_awards.groupBy(\"won_award\")\\\n",
    "                     .agg(round(avg(\"imdb_rating\"), 1).alias(\"average_imdb_rating\"))\n",
    "avg_rating_by_awards.select(col(\"average_imdb_rating\").alias(\"Average IMDB Rating\"), \n",
    "                            col(\"won_award\").alias(\"Award Won\")).show()"
   ]
  },
  {
   "cell_type": "markdown",
   "id": "8f560d96",
   "metadata": {},
   "source": [
    "Identifying the most common language for Disney movies"
   ]
  },
  {
   "cell_type": "code",
   "execution_count": 165,
   "id": "e18a91ae",
   "metadata": {},
   "outputs": [
    {
     "name": "stdout",
     "output_type": "stream",
     "text": [
      "+--------------------+\n",
      "|Most Common Language|\n",
      "+--------------------+\n",
      "|             English|\n",
      "+--------------------+\n",
      "\n"
     ]
    }
   ],
   "source": [
    "most_common_lang = df.groupBy(\"language\")\\\n",
    "                   .agg(count(\"imdb_id\").alias(\"no_of_movies\"))\\\n",
    "                   .orderBy(desc(\"no_of_movies\")).limit(1)\n",
    "most_common_lang.select(df.language.alias(\"Most Common Language\")).show()"
   ]
  },
  {
   "cell_type": "code",
   "execution_count": null,
   "id": "ba717313",
   "metadata": {},
   "outputs": [],
   "source": []
  }
 ],
 "metadata": {
  "kernelspec": {
   "display_name": "Python 3 (ipykernel)",
   "language": "python",
   "name": "python3"
  },
  "language_info": {
   "codemirror_mode": {
    "name": "ipython",
    "version": 3
   },
   "file_extension": ".py",
   "mimetype": "text/x-python",
   "name": "python",
   "nbconvert_exporter": "python",
   "pygments_lexer": "ipython3",
   "version": "3.7.1"
  }
 },
 "nbformat": 4,
 "nbformat_minor": 5
}
